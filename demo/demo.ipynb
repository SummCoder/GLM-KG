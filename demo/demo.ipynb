{
 "cells": [
  {
   "cell_type": "code",
   "execution_count": 5,
   "id": "initial_id",
   "metadata": {
    "collapsed": true,
    "ExecuteTime": {
     "end_time": "2024-05-19T03:15:13.873010300Z",
     "start_time": "2024-05-19T03:15:13.857008400Z"
    }
   },
   "outputs": [
    {
     "name": "stdout",
     "output_type": "stream",
     "text": [
      "hello, world\n"
     ]
    }
   ],
   "source": [
    "# hello world\n",
    "print(\"hello, world\")"
   ]
  },
  {
   "cell_type": "code",
   "execution_count": 2,
   "outputs": [
    {
     "name": "stdout",
     "output_type": "stream",
     "text": [
      "3\n"
     ]
    }
   ],
   "source": [
    "# 数字类型\n",
    "print(1 + 2)"
   ],
   "metadata": {
    "collapsed": false,
    "ExecuteTime": {
     "end_time": "2024-05-19T03:13:44.841329300Z",
     "start_time": "2024-05-19T03:13:44.822327600Z"
    }
   },
   "id": "650e138068df1e0a"
  },
  {
   "cell_type": "code",
   "execution_count": 3,
   "outputs": [
    {
     "name": "stdout",
     "output_type": "stream",
     "text": [
      "this is our story\n"
     ]
    }
   ],
   "source": [
    "# 字符串转义\n",
    "print(\"this is our story\\n\")"
   ],
   "metadata": {
    "collapsed": false,
    "ExecuteTime": {
     "end_time": "2024-05-19T03:14:17.143056300Z",
     "start_time": "2024-05-19T03:14:17.119056700Z"
    }
   },
   "id": "da427c84cfc1bae5"
  },
  {
   "cell_type": "code",
   "execution_count": 4,
   "outputs": [
    {
     "name": "stdout",
     "output_type": "stream",
     "text": [
      "this is our story\\n\n"
     ]
    }
   ],
   "source": [
    "# 使用`r`使反斜杠不转义\n",
    "print(r\"this is our story\\n\")"
   ],
   "metadata": {
    "collapsed": false,
    "ExecuteTime": {
     "end_time": "2024-05-19T03:14:38.821069600Z",
     "start_time": "2024-05-19T03:14:38.803074600Z"
    }
   },
   "id": "eb5e63338890c8f1"
  },
  {
   "cell_type": "code",
   "execution_count": 7,
   "outputs": [
    {
     "name": "stdout",
     "output_type": "stream",
     "text": [
      "this is our story!\n"
     ]
    }
   ],
   "source": [
    "# 字符串拼接\n",
    "\n",
    "sentence  = \"this is our story\" + \"!\"\n",
    "\n",
    "print(sentence)"
   ],
   "metadata": {
    "collapsed": false,
    "ExecuteTime": {
     "end_time": "2024-05-19T03:17:35.518989500Z",
     "start_time": "2024-05-19T03:17:35.502995400Z"
    }
   },
   "id": "78d8e4d8e16b60b3"
  },
  {
   "cell_type": "code",
   "execution_count": 1,
   "outputs": [
    {
     "name": "stdout",
     "output_type": "stream",
     "text": [
      "this is our story!\n",
      "this is our story\n",
      "this\n"
     ]
    }
   ],
   "source": [
    "# 字符串切片，左闭右开\n",
    "\n",
    "sentence = \"this is our story!\"\n",
    "\n",
    "print(sentence)\n",
    "print(sentence[0:-1])\n",
    "print(sentence[0:4])"
   ],
   "metadata": {
    "collapsed": false,
    "ExecuteTime": {
     "end_time": "2024-05-19T03:21:33.659079100Z",
     "start_time": "2024-05-19T03:21:33.641081600Z"
    }
   },
   "id": "b52687ac426c5109"
  },
  {
   "cell_type": "code",
   "execution_count": 4,
   "outputs": [
    {
     "name": "stdout",
     "output_type": "stream",
     "text": [
      "this is our story!\n"
     ]
    }
   ],
   "source": [
    "# 不换行输出\n",
    "\n",
    "print(\"this is our story\", end=\"\")\n",
    "print(\"!\")"
   ],
   "metadata": {
    "collapsed": false,
    "ExecuteTime": {
     "end_time": "2024-05-19T03:24:02.687471700Z",
     "start_time": "2024-05-19T03:24:02.672473900Z"
    }
   },
   "id": "878e1d0e597eda92"
  },
  {
   "cell_type": "code",
   "execution_count": 2,
   "outputs": [
    {
     "name": "stdout",
     "output_type": "stream",
     "text": [
      "C:\\Users\\Lenovo\\AppData\\Local\\Programs\\Python\\Python39\\lib\\site-packages\\ipykernel_launcher.py\n",
      "-f\n",
      "C:\\Users\\Lenovo\\AppData\\Roaming\\jupyter\\runtime\\kernel-39a03c22-a5e4-45f3-a8a2-3b79886d16e2.json\n",
      "\n",
      " python 路径为 ['D:\\\\software\\\\PyCharm 2023.2.4\\\\plugins\\\\python\\\\helpers-pro\\\\jupyter_debug', 'D:\\\\software\\\\PyCharm 2023.2.4\\\\plugins\\\\python\\\\helpers\\\\pydev', 'D:\\\\2024_05\\\\glm-kg\\\\demo', 'D:\\\\2024_05\\\\glm-kg', 'C:\\\\Users\\\\Lenovo\\\\AppData\\\\Local\\\\Programs\\\\Python\\\\Python39\\\\python39.zip', 'C:\\\\Users\\\\Lenovo\\\\AppData\\\\Local\\\\Programs\\\\Python\\\\Python39\\\\DLLs', 'C:\\\\Users\\\\Lenovo\\\\AppData\\\\Local\\\\Programs\\\\Python\\\\Python39\\\\lib', 'C:\\\\Users\\\\Lenovo\\\\AppData\\\\Local\\\\Programs\\\\Python\\\\Python39', '', 'C:\\\\Users\\\\Lenovo\\\\AppData\\\\Roaming\\\\Python\\\\Python39\\\\site-packages', 'C:\\\\Users\\\\Lenovo\\\\AppData\\\\Local\\\\Programs\\\\Python\\\\Python39\\\\lib\\\\site-packages', 'C:\\\\Users\\\\Lenovo\\\\AppData\\\\Local\\\\Programs\\\\Python\\\\Python39\\\\lib\\\\site-packages\\\\win32', 'C:\\\\Users\\\\Lenovo\\\\AppData\\\\Local\\\\Programs\\\\Python\\\\Python39\\\\lib\\\\site-packages\\\\win32\\\\lib', 'C:\\\\Users\\\\Lenovo\\\\AppData\\\\Local\\\\Programs\\\\Python\\\\Python39\\\\lib\\\\site-packages\\\\Pythonwin']\n"
     ]
    }
   ],
   "source": [
    "# import\n",
    "\n",
    "import sys\n",
    "\n",
    "for i in sys.argv:\n",
    "    print(i)\n",
    "print('\\n python 路径为', sys.path)"
   ],
   "metadata": {
    "collapsed": false,
    "ExecuteTime": {
     "end_time": "2024-05-19T04:58:20.877362900Z",
     "start_time": "2024-05-19T04:58:20.838364Z"
    }
   },
   "id": "4cf382646f430ce2"
  },
  {
   "cell_type": "code",
   "execution_count": 4,
   "outputs": [
    {
     "name": "stdout",
     "output_type": "stream",
     "text": [
      "path: ['D:\\\\software\\\\PyCharm 2023.2.4\\\\plugins\\\\python\\\\helpers-pro\\\\jupyter_debug', 'D:\\\\software\\\\PyCharm 2023.2.4\\\\plugins\\\\python\\\\helpers\\\\pydev', 'D:\\\\2024_05\\\\glm-kg\\\\demo', 'D:\\\\2024_05\\\\glm-kg', 'C:\\\\Users\\\\Lenovo\\\\AppData\\\\Local\\\\Programs\\\\Python\\\\Python39\\\\python39.zip', 'C:\\\\Users\\\\Lenovo\\\\AppData\\\\Local\\\\Programs\\\\Python\\\\Python39\\\\DLLs', 'C:\\\\Users\\\\Lenovo\\\\AppData\\\\Local\\\\Programs\\\\Python\\\\Python39\\\\lib', 'C:\\\\Users\\\\Lenovo\\\\AppData\\\\Local\\\\Programs\\\\Python\\\\Python39', '', 'C:\\\\Users\\\\Lenovo\\\\AppData\\\\Roaming\\\\Python\\\\Python39\\\\site-packages', 'C:\\\\Users\\\\Lenovo\\\\AppData\\\\Local\\\\Programs\\\\Python\\\\Python39\\\\lib\\\\site-packages', 'C:\\\\Users\\\\Lenovo\\\\AppData\\\\Local\\\\Programs\\\\Python\\\\Python39\\\\lib\\\\site-packages\\\\win32', 'C:\\\\Users\\\\Lenovo\\\\AppData\\\\Local\\\\Programs\\\\Python\\\\Python39\\\\lib\\\\site-packages\\\\win32\\\\lib', 'C:\\\\Users\\\\Lenovo\\\\AppData\\\\Local\\\\Programs\\\\Python\\\\Python39\\\\lib\\\\site-packages\\\\Pythonwin']\n"
     ]
    }
   ],
   "source": [
    "# from...import\n",
    "\n",
    "from sys import argv, path\n",
    "\n",
    "print('path:', path)"
   ],
   "metadata": {
    "collapsed": false,
    "ExecuteTime": {
     "end_time": "2024-05-19T04:59:32.147290300Z",
     "start_time": "2024-05-19T04:59:32.112293200Z"
    }
   },
   "id": "9a5ef2e3f7dba73c"
  },
  {
   "cell_type": "code",
   "execution_count": 6,
   "outputs": [
    {
     "name": "stdout",
     "output_type": "stream",
     "text": [
      "100\n",
      "1000.0\n",
      "SummCoder\n"
     ]
    }
   ],
   "source": [
    "# 基本数据类型\n",
    "\n",
    "counter = 100\n",
    "miles = 1000.0\n",
    "name = \"SummCoder\"\n",
    "\n",
    "print(counter)\n",
    "print(miles)\n",
    "print(name)"
   ],
   "metadata": {
    "collapsed": false,
    "ExecuteTime": {
     "end_time": "2024-05-19T05:01:16.932029200Z",
     "start_time": "2024-05-19T05:01:16.916028500Z"
    }
   },
   "id": "868879fe6c1a6577"
  },
  {
   "cell_type": "code",
   "execution_count": 8,
   "outputs": [
    {
     "name": "stdout",
     "output_type": "stream",
     "text": [
      "1 1 1\n",
      "1 2 SummCoder\n"
     ]
    }
   ],
   "source": [
    "# 变量赋值\n",
    "\n",
    "a = b = c = 1\n",
    "\n",
    "d, e, f = 1, 2, \"SummCoder\"\n",
    "\n",
    "print(a, b, c)\n",
    "\n",
    "print(d, e, f)"
   ],
   "metadata": {
    "collapsed": false,
    "ExecuteTime": {
     "end_time": "2024-05-19T05:13:17.822707Z",
     "start_time": "2024-05-19T05:13:17.802709600Z"
    }
   },
   "id": "5ed89dc422dfdfa0"
  },
  {
   "cell_type": "code",
   "execution_count": 20,
   "outputs": [
    {
     "name": "stdout",
     "output_type": "stream",
     "text": [
      "<class 'int'> <class 'float'> <class 'complex'>\n"
     ]
    },
    {
     "data": {
      "text/plain": "True"
     },
     "execution_count": 20,
     "metadata": {},
     "output_type": "execute_result"
    }
   ],
   "source": [
    "'''\n",
    "6个标准数据类型\n",
    "3个不可变：Number（数字）、String（字符串）、Tuple（元组）；\n",
    "3个可变：List（列表）、Dictionary（字典）、Set（集合）。\n",
    "'''\n",
    "\n",
    "# Number\n",
    "\n",
    "a, b, c = 20, 1.0, 4+3j\n",
    "\n",
    "print(type(a), type(b), type(c))\n",
    "\n",
    "isinstance(a, int)\n",
    "\n",
    "# 注：isinstance()会认为子类是一种父类类型，type()不会"
   ],
   "metadata": {
    "collapsed": false,
    "ExecuteTime": {
     "end_time": "2024-05-19T16:20:09.017651700Z",
     "start_time": "2024-05-19T16:20:08.991657500Z"
    }
   },
   "id": "a3f264eb56642b79"
  },
  {
   "cell_type": "code",
   "execution_count": 21,
   "outputs": [
    {
     "name": "stdout",
     "output_type": "stream",
     "text": [
      "1\n"
     ]
    },
    {
     "ename": "NameError",
     "evalue": "name 'a' is not defined",
     "output_type": "error",
     "traceback": [
      "\u001B[1;31m---------------------------------------------------------------------------\u001B[0m",
      "\u001B[1;31mNameError\u001B[0m                                 Traceback (most recent call last)",
      "Input \u001B[1;32mIn [21]\u001B[0m, in \u001B[0;36m<cell line: 7>\u001B[1;34m()\u001B[0m\n\u001B[0;32m      3\u001B[0m \u001B[38;5;28mprint\u001B[39m(a)\n\u001B[0;32m      5\u001B[0m \u001B[38;5;28;01mdel\u001B[39;00m a\n\u001B[1;32m----> 7\u001B[0m \u001B[38;5;28mprint\u001B[39m(\u001B[43ma\u001B[49m)\n",
      "\u001B[1;31mNameError\u001B[0m: name 'a' is not defined"
     ]
    }
   ],
   "source": [
    "# del删除对象\n",
    "\n",
    "a = 1\n",
    "print(a)\n",
    "\n",
    "del a\n",
    "print(a)"
   ],
   "metadata": {
    "collapsed": false,
    "ExecuteTime": {
     "end_time": "2024-05-19T16:21:17.966485Z",
     "start_time": "2024-05-19T16:21:17.617477900Z"
    }
   },
   "id": "b7bd42f44b371864"
  },
  {
   "cell_type": "code",
   "execution_count": null,
   "outputs": [],
   "source": [],
   "metadata": {
    "collapsed": false
   },
   "id": "d7483714b0772ca3"
  }
 ],
 "metadata": {
  "kernelspec": {
   "display_name": "Python 3",
   "language": "python",
   "name": "python3"
  },
  "language_info": {
   "codemirror_mode": {
    "name": "ipython",
    "version": 2
   },
   "file_extension": ".py",
   "mimetype": "text/x-python",
   "name": "python",
   "nbconvert_exporter": "python",
   "pygments_lexer": "ipython2",
   "version": "2.7.6"
  }
 },
 "nbformat": 4,
 "nbformat_minor": 5
}
