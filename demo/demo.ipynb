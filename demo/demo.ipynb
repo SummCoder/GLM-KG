{
 "cells": [
  {
   "cell_type": "code",
   "execution_count": 5,
   "id": "initial_id",
   "metadata": {
    "collapsed": true,
    "ExecuteTime": {
     "end_time": "2024-05-19T03:15:13.873010300Z",
     "start_time": "2024-05-19T03:15:13.857008400Z"
    }
   },
   "outputs": [
    {
     "name": "stdout",
     "output_type": "stream",
     "text": [
      "hello, world\n"
     ]
    }
   ],
   "source": [
    "# hello world\n",
    "print(\"hello, world\")"
   ]
  },
  {
   "cell_type": "code",
   "execution_count": 2,
   "outputs": [
    {
     "name": "stdout",
     "output_type": "stream",
     "text": [
      "3\n"
     ]
    }
   ],
   "source": [
    "# 数字类型\n",
    "print(1 + 2)"
   ],
   "metadata": {
    "collapsed": false,
    "ExecuteTime": {
     "end_time": "2024-05-19T03:13:44.841329300Z",
     "start_time": "2024-05-19T03:13:44.822327600Z"
    }
   },
   "id": "650e138068df1e0a"
  },
  {
   "cell_type": "code",
   "execution_count": 3,
   "outputs": [
    {
     "name": "stdout",
     "output_type": "stream",
     "text": [
      "this is our story\n"
     ]
    }
   ],
   "source": [
    "# 字符串转义\n",
    "print(\"this is our story\\n\")"
   ],
   "metadata": {
    "collapsed": false,
    "ExecuteTime": {
     "end_time": "2024-05-19T03:14:17.143056300Z",
     "start_time": "2024-05-19T03:14:17.119056700Z"
    }
   },
   "id": "da427c84cfc1bae5"
  },
  {
   "cell_type": "code",
   "execution_count": 4,
   "outputs": [
    {
     "name": "stdout",
     "output_type": "stream",
     "text": [
      "this is our story\\n\n"
     ]
    }
   ],
   "source": [
    "# 使用`r`使反斜杠不转义\n",
    "print(r\"this is our story\\n\")"
   ],
   "metadata": {
    "collapsed": false,
    "ExecuteTime": {
     "end_time": "2024-05-19T03:14:38.821069600Z",
     "start_time": "2024-05-19T03:14:38.803074600Z"
    }
   },
   "id": "eb5e63338890c8f1"
  },
  {
   "cell_type": "code",
   "execution_count": 7,
   "outputs": [
    {
     "name": "stdout",
     "output_type": "stream",
     "text": [
      "this is our story!\n"
     ]
    }
   ],
   "source": [
    "# 字符串拼接\n",
    "\n",
    "sentence  = \"this is our story\" + \"!\"\n",
    "\n",
    "print(sentence)"
   ],
   "metadata": {
    "collapsed": false,
    "ExecuteTime": {
     "end_time": "2024-05-19T03:17:35.518989500Z",
     "start_time": "2024-05-19T03:17:35.502995400Z"
    }
   },
   "id": "78d8e4d8e16b60b3"
  },
  {
   "cell_type": "code",
   "execution_count": 1,
   "outputs": [
    {
     "name": "stdout",
     "output_type": "stream",
     "text": [
      "this is our story!\n",
      "this is our story\n",
      "this\n"
     ]
    }
   ],
   "source": [
    "# 字符串切片，左闭右开\n",
    "\n",
    "sentence = \"this is our story!\"\n",
    "\n",
    "print(sentence)\n",
    "print(sentence[0:-1])\n",
    "print(sentence[0:4])"
   ],
   "metadata": {
    "collapsed": false,
    "ExecuteTime": {
     "end_time": "2024-05-19T03:21:33.659079100Z",
     "start_time": "2024-05-19T03:21:33.641081600Z"
    }
   },
   "id": "b52687ac426c5109"
  },
  {
   "cell_type": "code",
   "execution_count": 4,
   "outputs": [
    {
     "name": "stdout",
     "output_type": "stream",
     "text": [
      "this is our story!\n"
     ]
    }
   ],
   "source": [
    "# 不换行输出\n",
    "\n",
    "print(\"this is our story\", end=\"\")\n",
    "print(\"!\")"
   ],
   "metadata": {
    "collapsed": false,
    "ExecuteTime": {
     "end_time": "2024-05-19T03:24:02.687471700Z",
     "start_time": "2024-05-19T03:24:02.672473900Z"
    }
   },
   "id": "878e1d0e597eda92"
  },
  {
   "cell_type": "code",
   "execution_count": 2,
   "outputs": [
    {
     "name": "stdout",
     "output_type": "stream",
     "text": [
      "C:\\Users\\Lenovo\\AppData\\Local\\Programs\\Python\\Python39\\lib\\site-packages\\ipykernel_launcher.py\n",
      "-f\n",
      "C:\\Users\\Lenovo\\AppData\\Roaming\\jupyter\\runtime\\kernel-39a03c22-a5e4-45f3-a8a2-3b79886d16e2.json\n",
      "\n",
      " python 路径为 ['D:\\\\software\\\\PyCharm 2023.2.4\\\\plugins\\\\python\\\\helpers-pro\\\\jupyter_debug', 'D:\\\\software\\\\PyCharm 2023.2.4\\\\plugins\\\\python\\\\helpers\\\\pydev', 'D:\\\\2024_05\\\\glm-kg\\\\demo', 'D:\\\\2024_05\\\\glm-kg', 'C:\\\\Users\\\\Lenovo\\\\AppData\\\\Local\\\\Programs\\\\Python\\\\Python39\\\\python39.zip', 'C:\\\\Users\\\\Lenovo\\\\AppData\\\\Local\\\\Programs\\\\Python\\\\Python39\\\\DLLs', 'C:\\\\Users\\\\Lenovo\\\\AppData\\\\Local\\\\Programs\\\\Python\\\\Python39\\\\lib', 'C:\\\\Users\\\\Lenovo\\\\AppData\\\\Local\\\\Programs\\\\Python\\\\Python39', '', 'C:\\\\Users\\\\Lenovo\\\\AppData\\\\Roaming\\\\Python\\\\Python39\\\\site-packages', 'C:\\\\Users\\\\Lenovo\\\\AppData\\\\Local\\\\Programs\\\\Python\\\\Python39\\\\lib\\\\site-packages', 'C:\\\\Users\\\\Lenovo\\\\AppData\\\\Local\\\\Programs\\\\Python\\\\Python39\\\\lib\\\\site-packages\\\\win32', 'C:\\\\Users\\\\Lenovo\\\\AppData\\\\Local\\\\Programs\\\\Python\\\\Python39\\\\lib\\\\site-packages\\\\win32\\\\lib', 'C:\\\\Users\\\\Lenovo\\\\AppData\\\\Local\\\\Programs\\\\Python\\\\Python39\\\\lib\\\\site-packages\\\\Pythonwin']\n"
     ]
    }
   ],
   "source": [
    "# import\n",
    "\n",
    "import sys\n",
    "\n",
    "for i in sys.argv:\n",
    "    print(i)\n",
    "print('\\n python 路径为', sys.path)"
   ],
   "metadata": {
    "collapsed": false,
    "ExecuteTime": {
     "end_time": "2024-05-19T04:58:20.877362900Z",
     "start_time": "2024-05-19T04:58:20.838364Z"
    }
   },
   "id": "4cf382646f430ce2"
  },
  {
   "cell_type": "code",
   "execution_count": 4,
   "outputs": [
    {
     "name": "stdout",
     "output_type": "stream",
     "text": [
      "path: ['D:\\\\software\\\\PyCharm 2023.2.4\\\\plugins\\\\python\\\\helpers-pro\\\\jupyter_debug', 'D:\\\\software\\\\PyCharm 2023.2.4\\\\plugins\\\\python\\\\helpers\\\\pydev', 'D:\\\\2024_05\\\\glm-kg\\\\demo', 'D:\\\\2024_05\\\\glm-kg', 'C:\\\\Users\\\\Lenovo\\\\AppData\\\\Local\\\\Programs\\\\Python\\\\Python39\\\\python39.zip', 'C:\\\\Users\\\\Lenovo\\\\AppData\\\\Local\\\\Programs\\\\Python\\\\Python39\\\\DLLs', 'C:\\\\Users\\\\Lenovo\\\\AppData\\\\Local\\\\Programs\\\\Python\\\\Python39\\\\lib', 'C:\\\\Users\\\\Lenovo\\\\AppData\\\\Local\\\\Programs\\\\Python\\\\Python39', '', 'C:\\\\Users\\\\Lenovo\\\\AppData\\\\Roaming\\\\Python\\\\Python39\\\\site-packages', 'C:\\\\Users\\\\Lenovo\\\\AppData\\\\Local\\\\Programs\\\\Python\\\\Python39\\\\lib\\\\site-packages', 'C:\\\\Users\\\\Lenovo\\\\AppData\\\\Local\\\\Programs\\\\Python\\\\Python39\\\\lib\\\\site-packages\\\\win32', 'C:\\\\Users\\\\Lenovo\\\\AppData\\\\Local\\\\Programs\\\\Python\\\\Python39\\\\lib\\\\site-packages\\\\win32\\\\lib', 'C:\\\\Users\\\\Lenovo\\\\AppData\\\\Local\\\\Programs\\\\Python\\\\Python39\\\\lib\\\\site-packages\\\\Pythonwin']\n"
     ]
    }
   ],
   "source": [
    "# from...import\n",
    "\n",
    "from sys import argv, path\n",
    "\n",
    "print('path:', path)"
   ],
   "metadata": {
    "collapsed": false,
    "ExecuteTime": {
     "end_time": "2024-05-19T04:59:32.147290300Z",
     "start_time": "2024-05-19T04:59:32.112293200Z"
    }
   },
   "id": "9a5ef2e3f7dba73c"
  },
  {
   "cell_type": "code",
   "execution_count": 6,
   "outputs": [
    {
     "name": "stdout",
     "output_type": "stream",
     "text": [
      "100\n",
      "1000.0\n",
      "SummCoder\n"
     ]
    }
   ],
   "source": [
    "# 基本数据类型\n",
    "\n",
    "counter = 100\n",
    "miles = 1000.0\n",
    "name = \"SummCoder\"\n",
    "\n",
    "print(counter)\n",
    "print(miles)\n",
    "print(name)"
   ],
   "metadata": {
    "collapsed": false,
    "ExecuteTime": {
     "end_time": "2024-05-19T05:01:16.932029200Z",
     "start_time": "2024-05-19T05:01:16.916028500Z"
    }
   },
   "id": "868879fe6c1a6577"
  },
  {
   "cell_type": "code",
   "execution_count": 8,
   "outputs": [
    {
     "name": "stdout",
     "output_type": "stream",
     "text": [
      "1 1 1\n",
      "1 2 SummCoder\n"
     ]
    }
   ],
   "source": [
    "# 变量赋值\n",
    "\n",
    "a = b = c = 1\n",
    "\n",
    "d, e, f = 1, 2, \"SummCoder\"\n",
    "\n",
    "print(a, b, c)\n",
    "\n",
    "print(d, e, f)"
   ],
   "metadata": {
    "collapsed": false,
    "ExecuteTime": {
     "end_time": "2024-05-19T05:13:17.822707Z",
     "start_time": "2024-05-19T05:13:17.802709600Z"
    }
   },
   "id": "5ed89dc422dfdfa0"
  },
  {
   "cell_type": "code",
   "execution_count": 20,
   "outputs": [
    {
     "name": "stdout",
     "output_type": "stream",
     "text": [
      "<class 'int'> <class 'float'> <class 'complex'>\n"
     ]
    },
    {
     "data": {
      "text/plain": "True"
     },
     "execution_count": 20,
     "metadata": {},
     "output_type": "execute_result"
    }
   ],
   "source": [
    "'''\n",
    "6个标准数据类型\n",
    "3个不可变：Number（数字）、String（字符串）、Tuple（元组）；\n",
    "3个可变：List（列表）、Dictionary（字典）、Set（集合）。\n",
    "'''\n",
    "\n",
    "# Number\n",
    "\n",
    "a, b, c = 20, 1.0, 4+3j\n",
    "\n",
    "print(type(a), type(b), type(c))\n",
    "\n",
    "isinstance(a, int)\n",
    "\n",
    "# 注：isinstance()会认为子类是一种父类类型，type()不会"
   ],
   "metadata": {
    "collapsed": false,
    "ExecuteTime": {
     "end_time": "2024-05-19T16:20:09.017651700Z",
     "start_time": "2024-05-19T16:20:08.991657500Z"
    }
   },
   "id": "a3f264eb56642b79"
  },
  {
   "cell_type": "code",
   "execution_count": 21,
   "outputs": [
    {
     "name": "stdout",
     "output_type": "stream",
     "text": [
      "1\n"
     ]
    },
    {
     "ename": "NameError",
     "evalue": "name 'a' is not defined",
     "output_type": "error",
     "traceback": [
      "\u001B[1;31m---------------------------------------------------------------------------\u001B[0m",
      "\u001B[1;31mNameError\u001B[0m                                 Traceback (most recent call last)",
      "Input \u001B[1;32mIn [21]\u001B[0m, in \u001B[0;36m<cell line: 7>\u001B[1;34m()\u001B[0m\n\u001B[0;32m      3\u001B[0m \u001B[38;5;28mprint\u001B[39m(a)\n\u001B[0;32m      5\u001B[0m \u001B[38;5;28;01mdel\u001B[39;00m a\n\u001B[1;32m----> 7\u001B[0m \u001B[38;5;28mprint\u001B[39m(\u001B[43ma\u001B[49m)\n",
      "\u001B[1;31mNameError\u001B[0m: name 'a' is not defined"
     ]
    }
   ],
   "source": [
    "# del删除对象\n",
    "\n",
    "a = 1\n",
    "print(a)\n",
    "\n",
    "del a\n",
    "print(a)"
   ],
   "metadata": {
    "collapsed": false,
    "ExecuteTime": {
     "end_time": "2024-05-19T16:21:17.966485Z",
     "start_time": "2024-05-19T16:21:17.617477900Z"
    }
   },
   "id": "b7bd42f44b371864"
  },
  {
   "cell_type": "code",
   "execution_count": 4,
   "outputs": [
    {
     "name": "stdout",
     "output_type": "stream",
     "text": [
      "9\n",
      "2.3\n",
      "21\n",
      "0.5\n",
      "0\n",
      "2\n",
      "32\n",
      "<class 'int'>\n",
      "<class 'float'>\n"
     ]
    }
   ],
   "source": [
    "# 数值运算\n",
    "\n",
    "print(5 + 4) # 加法\n",
    "print(4.3 - 2)\n",
    "print(3 * 7)\n",
    "print(2 / 4) # 除法，得到一个浮点数\n",
    "print(2 // 4) # 除法，得到一个整数\n",
    "print(17 % 3) # 取余\n",
    "print(2 ** 5) # 乘方\n",
    "\n",
    "# 一个变量可以通过赋值指向不同类型的对象\n",
    "\n",
    "a = 1\n",
    "print(type(a))\n",
    "\n",
    "a = 1.0\n",
    "print(type(a))"
   ],
   "metadata": {
    "collapsed": false,
    "ExecuteTime": {
     "end_time": "2024-05-25T04:56:02.736866300Z",
     "start_time": "2024-05-25T04:56:02.675867700Z"
    }
   },
   "id": "d7483714b0772ca3"
  },
  {
   "cell_type": "code",
   "execution_count": 6,
   "outputs": [
    {
     "name": "stdout",
     "output_type": "stream",
     "text": [
      "p n\n",
      "n p\n"
     ]
    }
   ],
   "source": [
    "# python没有单独的字符类型，一个字符就是长度为1的字符串\n",
    "\n",
    "word = 'python'\n",
    "\n",
    "print(word[0], word[5])\n",
    "print(word[-1], word[-6])\n",
    "\n",
    "# 注意：python字符串不能被改变"
   ],
   "metadata": {
    "collapsed": false,
    "ExecuteTime": {
     "end_time": "2024-05-25T04:58:40.881834400Z",
     "start_time": "2024-05-25T04:58:40.804834600Z"
    }
   },
   "id": "f75a3727f9652b5f"
  },
  {
   "cell_type": "code",
   "execution_count": 8,
   "outputs": [
    {
     "name": "stdout",
     "output_type": "stream",
     "text": [
      "True\n",
      "False\n",
      "False\n",
      "True\n",
      "False\n",
      "1\n",
      "0.0\n",
      "True\n"
     ]
    }
   ],
   "source": [
    "# bool类型\n",
    "\n",
    "# bool类型只有两个值：True和False\n",
    "\n",
    "# bool类型可与其他数据类型比较，比较时，python会将True视为1，False视为0\n",
    "\n",
    "# bool类型可以和逻辑运算符一起使用，这些运算符可用来组合生成新的布尔值\n",
    "\n",
    "# bool类型也可以转换成其他数据类型，True会被转换成1\n",
    "\n",
    "a = True\n",
    "b = False\n",
    "\n",
    "# 比较运算符\n",
    "print(2 < 3)   # True\n",
    "print(2 == 3)  # False\n",
    "\n",
    "# 逻辑运算符\n",
    "print(a and b)  # False\n",
    "print(a or b)   # True\n",
    "print(not a)    # False\n",
    "\n",
    "# 类型转换\n",
    "print(int(a))   # 1\n",
    "print(float(b)) # 0.0\n",
    "print(str(a))   # \"True\"\n",
    "\n",
    "# 在 Python 中，所有非零的数字和非空的字符串、列表、元组等数据类型都被视为 True，只有 0、空字符串、空列表、空元组等被视为 False。"
   ],
   "metadata": {
    "collapsed": false,
    "ExecuteTime": {
     "end_time": "2024-05-25T05:04:36.677909800Z",
     "start_time": "2024-05-25T05:04:36.589904200Z"
    }
   },
   "id": "24405a9f401352ef"
  },
  {
   "cell_type": "code",
   "execution_count": 9,
   "outputs": [
    {
     "name": "stdout",
     "output_type": "stream",
     "text": [
      "['abcd', 786, 2.23, 'runoob', 70.2]\n",
      "abcd\n",
      "[786, 2.23]\n",
      "[2.23, 'runoob', 70.2]\n",
      "[123, 'runoob', 123, 'runoob']\n",
      "['abcd', 786, 2.23, 'runoob', 70.2, 123, 'runoob']\n"
     ]
    }
   ],
   "source": [
    "# List（列表）\n",
    "\n",
    "# 列表是写在方括号 [] 之间、用逗号分隔开的元素列表。\n",
    "\n",
    "# 列表中元素的类型可以不相同，它支持数字，字符串甚至可以包含列表（所谓嵌套）。\n",
    "\n",
    "# 和字符串一样，列表同样可以被索引和截取，列表被截取后返回一个包含所需元素的新列表。同样的左闭右开\n",
    "\n",
    "# 加号 + 是列表连接运算符，星号 * 是重复操作。\n",
    "\n",
    "\n",
    "#!/usr/bin/python3\n",
    "\n",
    "list = [ 'abcd', 786 , 2.23, 'runoob', 70.2 ]  # 定义一个列表\n",
    "tinylist = [123, 'runoob']\n",
    "\n",
    "print (list)            # 打印整个列表\n",
    "print (list[0])         # 打印列表的第一个元素\n",
    "print (list[1:3])       # 打印列表第二到第四个元素（不包含第四个元素）\n",
    "print (list[2:])        # 打印列表从第三个元素开始到末尾\n",
    "print (tinylist * 2)    # 打印tinylist列表两次\n",
    "print (list + tinylist)  # 打印两个列表拼接在一起的结果\n"
   ],
   "metadata": {
    "collapsed": false,
    "ExecuteTime": {
     "end_time": "2024-05-25T05:07:38.125342900Z",
     "start_time": "2024-05-25T05:07:37.987346400Z"
    }
   },
   "id": "d037a84a1bd920c5"
  },
  {
   "cell_type": "code",
   "execution_count": 11,
   "outputs": [
    {
     "name": "stdout",
     "output_type": "stream",
     "text": [
      "[9, 2, 3, 4, 5, 6]\n",
      "[9, 2, 6]\n"
     ]
    }
   ],
   "source": [
    "# 列表元素可以改变\n",
    "\n",
    "a = [1, 2, 3, 4, 5, 6]\n",
    "\n",
    "a[0] = 9\n",
    "\n",
    "print(a)\n",
    "\n",
    "a[2:5] = []\n",
    "\n",
    "print(a)"
   ],
   "metadata": {
    "collapsed": false,
    "ExecuteTime": {
     "end_time": "2024-05-25T05:57:48.570339900Z",
     "start_time": "2024-05-25T05:57:48.525325200Z"
    }
   },
   "id": "68785c796b1b02b1"
  },
  {
   "cell_type": "code",
   "execution_count": 13,
   "outputs": [
    {
     "name": "stdout",
     "output_type": "stream",
     "text": [
      "runoob like I\n"
     ]
    }
   ],
   "source": [
    "# 列表可接受第三个参数用以表示截取的步长，第三个参数为负数表示逆向读取，下面实例用以翻转字符串\n",
    "\n",
    "def reverseWords(input): \n",
    "      \n",
    "    # 通过空格将字符串分隔符，把各个单词分隔为列表\n",
    "    inputWords = input.split(\" \") \n",
    "  \n",
    "    # 翻转字符串\n",
    "    # 假设列表 list = [1,2,3,4],  \n",
    "    # list[0]=1, list[1]=2 ，而 -1 表示最后一个元素 list[-1]=4 ( 与 list[3]=4 一样) \n",
    "    # inputWords[-1::-1] 有三个参数\n",
    "    # 第一个参数 -1 表示最后一个元素\n",
    "    # 第二个参数为空，表示移动到列表末尾\n",
    "    # 第三个参数为步长，-1 表示逆向\n",
    "    inputWords=inputWords[-1::-1] \n",
    "  \n",
    "    # 重新组合字符串\n",
    "    output = ' '.join(inputWords) \n",
    "      \n",
    "    return output \n",
    "  \n",
    "if __name__ == \"__main__\": \n",
    "    input = 'I like runoob'\n",
    "    rw = reverseWords(input) \n",
    "    print(rw)"
   ],
   "metadata": {
    "collapsed": false,
    "ExecuteTime": {
     "end_time": "2024-05-25T06:00:01.534199800Z",
     "start_time": "2024-05-25T06:00:01.451194700Z"
    }
   },
   "id": "1a917fd9a280dee2"
  },
  {
   "cell_type": "code",
   "execution_count": 15,
   "outputs": [
    {
     "name": "stdout",
     "output_type": "stream",
     "text": [
      "('abcd', 786, 2.23, 'runoob', 70.2)\n",
      "abcd\n",
      "(786, 2.23)\n",
      "(2.23, 'runoob', 70.2)\n",
      "(123, 'runoob', 123, 'runoob')\n",
      "('abcd', 786, 2.23, 'runoob', 70.2, 123, 'runoob')\n"
     ]
    }
   ],
   "source": [
    "# Tuple（元组）\n",
    "\n",
    "# 元组（tuple）与列表类似，不同之处在于元组的元素不能修改。元组写在小括号 () 里，元素之间用逗号隔开\n",
    "\n",
    "#!/usr/bin/python3\n",
    "\n",
    "tuple = ( 'abcd', 786 , 2.23, 'runoob', 70.2  )\n",
    "tinytuple = (123, 'runoob')\n",
    "\n",
    "print (tuple)             # 输出完整元组\n",
    "print (tuple[0])          # 输出元组的第一个元素\n",
    "print (tuple[1:3])        # 输出从第二个元素开始到第三个元素\n",
    "print (tuple[2:])         # 输出从第三个元素开始的所有元素\n",
    "print (tinytuple * 2)     # 输出两次元组\n",
    "print (tuple + tinytuple) # 连接元组"
   ],
   "metadata": {
    "collapsed": false,
    "ExecuteTime": {
     "end_time": "2024-05-25T06:01:35.767009500Z",
     "start_time": "2024-05-25T06:01:35.685452800Z"
    }
   },
   "id": "6237fa4e7c88fe1d"
  },
  {
   "cell_type": "code",
   "execution_count": 16,
   "outputs": [],
   "source": [
    "# 特殊元组\n",
    "\n",
    "tup1 = ()    # 空元组\n",
    "tup2 = (20,) # 一个元素，需要在元素后添加逗号\n",
    "\n",
    "# 在没有逗号的情况下，Python会将括号解释为数学运算中的括号，而不是元组的表示。\n",
    "\n",
    "# string、list 和 tuple 都属于 sequence（序列）。\n"
   ],
   "metadata": {
    "collapsed": false,
    "ExecuteTime": {
     "end_time": "2024-05-25T06:03:50.648302200Z",
     "start_time": "2024-05-25T06:03:50.574302800Z"
    }
   },
   "id": "4d5922ff4747665b"
  },
  {
   "cell_type": "code",
   "execution_count": 19,
   "outputs": [
    {
     "name": "stdout",
     "output_type": "stream",
     "text": [
      "{'Google', 'Taobao', 'Runoob', 'Zhihu', 'Facebook', 'Baidu'}\n",
      "Runoob 在集合中\n",
      "{'b', 'a', 'c', 'r', 'd'}\n",
      "{'d', 'b', 'r'}\n",
      "{'b', 'a', 'c', 'z', 'm', 'l', 'r', 'd'}\n",
      "{'c', 'a'}\n",
      "{'z', 'm', 'b', 'l', 'r', 'd'}\n"
     ]
    }
   ],
   "source": [
    "# Set（集合）\n",
    "\n",
    "# Python 中的集合（Set）是一种无序、可变的数据类型，用于存储唯一的元素。\n",
    "# 集合中的元素不会重复，并且可以进行交集、并集、差集等常见的集合操作。\n",
    "# 在 Python 中，集合使用大括号 {} 表示，元素之间用逗号 , 分隔。\n",
    "# 注意：创建一个空集合必须用 set() 而不是 { }，因为 { } 是用来创建一个空字典。\n",
    "\n",
    "#!/usr/bin/python3\n",
    "\n",
    "sites = {'Google', 'Google', 'Taobao', 'Runoob', 'Facebook', 'Zhihu', 'Baidu'}\n",
    "\n",
    "print(sites)   # 输出集合，重复的元素被自动去掉\n",
    "\n",
    "# 成员测试\n",
    "if 'Runoob' in sites :\n",
    "    print('Runoob 在集合中')\n",
    "else :\n",
    "    print('Runoob 不在集合中')\n",
    "\n",
    "\n",
    "# set可以进行集合运算\n",
    "a = set('abracadabra')\n",
    "b = set('alacazam')\n",
    "\n",
    "print(a)\n",
    "\n",
    "print(a - b)     # a 和 b 的差集\n",
    "\n",
    "print(a | b)     # a 和 b 的并集\n",
    "\n",
    "print(a & b)     # a 和 b 的交集\n",
    "\n",
    "print(a ^ b)     # a 和 b 中不同时存在的元素\n",
    "\n",
    "\n"
   ],
   "metadata": {
    "collapsed": false,
    "ExecuteTime": {
     "end_time": "2024-05-25T06:09:09.915500600Z",
     "start_time": "2024-05-25T06:09:09.835507100Z"
    }
   },
   "id": "e03bfe361693fad8"
  },
  {
   "cell_type": "code",
   "execution_count": 21,
   "outputs": [
    {
     "name": "stdout",
     "output_type": "stream",
     "text": [
      "1 - 菜鸟教程\n",
      "2 - 菜鸟工具\n",
      "{'name': 'runoob', 'code': 1, 'site': 'www.runoob.com'}\n",
      "dict_keys(['name', 'code', 'site'])\n",
      "dict_values(['runoob', 1, 'www.runoob.com'])\n"
     ]
    }
   ],
   "source": [
    "# Dictionary（字典）\n",
    "\n",
    "# 列表是有序的对象集合，字典是无序的对象集合。两者之间的区别在于：字典当中的元素是通过键来存取的，而不是通过偏移存取。\n",
    "\n",
    "# 字典是一种映射类型，字典用 { } 标识，它是一个无序的 键(key) : 值(value) 的集合。\n",
    "\n",
    "# 在同一个字典中，键(key)必须是唯一的。\n",
    "# 字典的关键字必须为不可变类型，且不能重复?为啥2能做键？来自gpt的解释：虽然整数是可修改的，但在字典中作为关键字时，其身份值是不可变的\n",
    "\n",
    "#!/usr/bin/python3\n",
    "\n",
    "dict = {}\n",
    "dict['one'] = \"1 - 菜鸟教程\"\n",
    "dict[2]     = \"2 - 菜鸟工具\"\n",
    "\n",
    "tinydict = {'name': 'runoob','code':1, 'site': 'www.runoob.com'}\n",
    "\n",
    "\n",
    "print (dict['one'])       # 输出键为 'one' 的值\n",
    "print (dict[2])           # 输出键为 2 的值\n",
    "print (tinydict)          # 输出完整的字典\n",
    "print (tinydict.keys())   # 输出所有键\n",
    "print (tinydict.values()) # 输出所有值"
   ],
   "metadata": {
    "collapsed": false,
    "ExecuteTime": {
     "end_time": "2024-05-25T06:11:13.374207800Z",
     "start_time": "2024-05-25T06:11:13.286208600Z"
    }
   },
   "id": "590b80e455783975"
  },
  {
   "cell_type": "code",
   "execution_count": 29,
   "outputs": [
    {
     "name": "stdout",
     "output_type": "stream",
     "text": [
      "b'hello' b'el' b'helloworld'\n"
     ]
    }
   ],
   "source": [
    "# bytes 类型\n",
    "# 与字符串类型不同的是，bytes 类型中的元素是整数值（0 到 255 之间的整数），而不是 Unicode 字符\n",
    "# bytes 类型通常用于处理二进制数据，比如图像文件、音频文件、视频文件等等。在网络编程中，也经常使用 bytes 类型来传输二进制数据\n",
    "\n",
    "# 创建 bytes 对象的方式有多种，最常见的方式是使用 b 前缀，此外，也可以使用 bytes() 函数将其他类型的对象转换为 bytes 类型。bytes() 函数的第一个参数是要转换的对象，第二个参数是编码方式，如果省略第二个参数，则默认使用 UTF-8 编码\n",
    "\n",
    "# 由于 bytes 类型是不可变的，因此在进行修改操作时需要创建一个新的 bytes 对象。\n",
    "b = bytes(\"hello\", encoding=\"utf-8\")\n",
    "\n",
    "x = b\"hello\"\n",
    "y = x[1:3]  # 切片操作，得到 b\"el\"\n",
    "z = x + b\"world\"  # 拼接操作，得到 b\"helloworld\"\n",
    "\n",
    "print(x, y, z)"
   ],
   "metadata": {
    "collapsed": false,
    "ExecuteTime": {
     "end_time": "2024-05-25T06:21:20.967767700Z",
     "start_time": "2024-05-25T06:21:20.922770800Z"
    }
   },
   "id": "8c05e5225843b87"
  },
  {
   "cell_type": "code",
   "execution_count": 31,
   "outputs": [
    {
     "name": "stdout",
     "output_type": "stream",
     "text": [
      "The first element is 'h'\n"
     ]
    }
   ],
   "source": [
    "# bytes 类型中的元素是整数值，因此在进行比较操作时需要使用相应的整数值。\n",
    "\n",
    "x = b\"hello\"\n",
    "if x[0] == ord(\"h\"):\n",
    "    print(\"The first element is 'h'\")"
   ],
   "metadata": {
    "collapsed": false,
    "ExecuteTime": {
     "end_time": "2024-05-25T07:06:04.811559300Z",
     "start_time": "2024-05-25T07:06:04.715565100Z"
    }
   },
   "id": "89ce5ee72eb46786"
  },
  {
   "cell_type": "code",
   "execution_count": 32,
   "outputs": [
    {
     "name": "stdout",
     "output_type": "stream",
     "text": [
      "num_int 数据类型为: <class 'int'>\n",
      "num_flo 数据类型为: <class 'float'>\n",
      "num_new 值为: 124.23\n",
      "num_new 数据类型为: <class 'float'>\n"
     ]
    }
   ],
   "source": [
    "# 数据类型转换\n",
    "\n",
    "# 隐式类型转换\n",
    "\n",
    "# 在隐式类型转换中，Python 会自动将一种数据类型转换为另一种数据类型，不需要我们去干预。\n",
    "\n",
    "num_int = 123\n",
    "num_flo = 1.23\n",
    "\n",
    "num_new = num_int + num_flo\n",
    "\n",
    "print(\"num_int 数据类型为:\",type(num_int))\n",
    "print(\"num_flo 数据类型为:\",type(num_flo))\n",
    "\n",
    "print(\"num_new 值为:\",num_new)\n",
    "print(\"num_new 数据类型为:\",type(num_new))"
   ],
   "metadata": {
    "collapsed": false,
    "ExecuteTime": {
     "end_time": "2024-05-25T07:07:52.979229100Z",
     "start_time": "2024-05-25T07:07:52.897207100Z"
    }
   },
   "id": "13e64cc40cdd6a0b"
  },
  {
   "cell_type": "code",
   "execution_count": 34,
   "outputs": [
    {
     "name": "stdout",
     "output_type": "stream",
     "text": [
      "num_int 数据类型为: <class 'int'>\n",
      "num_str 数据类型为: <class 'str'>\n"
     ]
    },
    {
     "ename": "TypeError",
     "evalue": "unsupported operand type(s) for +: 'int' and 'str'",
     "output_type": "error",
     "traceback": [
      "\u001B[1;31m---------------------------------------------------------------------------\u001B[0m",
      "\u001B[1;31mTypeError\u001B[0m                                 Traceback (most recent call last)",
      "Input \u001B[1;32mIn [34]\u001B[0m, in \u001B[0;36m<cell line: 9>\u001B[1;34m()\u001B[0m\n\u001B[0;32m      6\u001B[0m \u001B[38;5;28mprint\u001B[39m(\u001B[38;5;124m\"\u001B[39m\u001B[38;5;124mnum_int 数据类型为:\u001B[39m\u001B[38;5;124m\"\u001B[39m,\u001B[38;5;28mtype\u001B[39m(num_int))\n\u001B[0;32m      7\u001B[0m \u001B[38;5;28mprint\u001B[39m(\u001B[38;5;124m\"\u001B[39m\u001B[38;5;124mnum_str 数据类型为:\u001B[39m\u001B[38;5;124m\"\u001B[39m,\u001B[38;5;28mtype\u001B[39m(num_str))\n\u001B[1;32m----> 9\u001B[0m \u001B[38;5;28mprint\u001B[39m(\u001B[43mnum_int\u001B[49m\u001B[38;5;241;43m+\u001B[39;49m\u001B[43mnum_str\u001B[49m)\n",
      "\u001B[1;31mTypeError\u001B[0m: unsupported operand type(s) for +: 'int' and 'str'"
     ]
    }
   ],
   "source": [
    "# 无法隐式转换\n",
    "\n",
    "num_int = 123\n",
    "num_str = \"456\"\n",
    "\n",
    "print(\"num_int 数据类型为:\",type(num_int))\n",
    "print(\"num_str 数据类型为:\",type(num_str))\n",
    "\n",
    "print(num_int+num_str)"
   ],
   "metadata": {
    "collapsed": false,
    "ExecuteTime": {
     "end_time": "2024-05-25T07:08:38.296453100Z",
     "start_time": "2024-05-25T07:08:38.228457200Z"
    }
   },
   "id": "155876b0b58ee29c"
  },
  {
   "cell_type": "code",
   "execution_count": 36,
   "outputs": [
    {
     "name": "stdout",
     "output_type": "stream",
     "text": [
      "1 2 3\n"
     ]
    }
   ],
   "source": [
    "# 显式转换\n",
    "\n",
    "x = int(1)   # x 输出结果为 1\n",
    "y = int(2.8) # y 输出结果为 2\n",
    "z = int(\"3\") # z 输出结果为 3\n",
    "\n",
    "print(x, y, z)"
   ],
   "metadata": {
    "collapsed": false,
    "ExecuteTime": {
     "end_time": "2024-05-25T07:09:38.504273900Z",
     "start_time": "2024-05-25T07:09:38.452274200Z"
    }
   },
   "id": "b500b4b90591f578"
  },
  {
   "cell_type": "code",
   "execution_count": 38,
   "outputs": [
    {
     "name": "stdout",
     "output_type": "stream",
     "text": [
      "1.0 2.8 3.0 4.2\n"
     ]
    }
   ],
   "source": [
    "x = float(1)     # x 输出结果为 1.0\n",
    "y = float(2.8)   # y 输出结果为 2.8\n",
    "z = float(\"3\")   # z 输出结果为 3.0\n",
    "w = float(\"4.2\") # w 输出结果为 4.2\n",
    "\n",
    "print(x, y, z, w)"
   ],
   "metadata": {
    "collapsed": false,
    "ExecuteTime": {
     "end_time": "2024-05-25T07:10:02.295330500Z",
     "start_time": "2024-05-25T07:10:02.240430800Z"
    }
   },
   "id": "53e85002cc732079"
  },
  {
   "cell_type": "code",
   "execution_count": 40,
   "outputs": [
    {
     "name": "stdout",
     "output_type": "stream",
     "text": [
      "num_int 数据类型为: <class 'int'>\n",
      "类型转换前，num_str 数据类型为: <class 'str'>\n",
      "类型转换后，num_str 数据类型为: <class 'int'>\n",
      "num_int 与 num_str 相加结果为: 579\n",
      "sum 数据类型为: <class 'int'>\n"
     ]
    }
   ],
   "source": [
    "# 上述使用隐式转换无法运算的整数与字符串加减，改为显式进行运算\n",
    "\n",
    "num_int = 123\n",
    "num_str = \"456\"\n",
    "\n",
    "print(\"num_int 数据类型为:\",type(num_int))\n",
    "print(\"类型转换前，num_str 数据类型为:\",type(num_str))\n",
    "\n",
    "num_str = int(num_str)    # 强制转换为整型\n",
    "print(\"类型转换后，num_str 数据类型为:\",type(num_str))\n",
    "\n",
    "num_sum = num_int + num_str\n",
    "\n",
    "print(\"num_int 与 num_str 相加结果为:\",num_sum)\n",
    "print(\"sum 数据类型为:\",type(num_sum))"
   ],
   "metadata": {
    "collapsed": false,
    "ExecuteTime": {
     "end_time": "2024-05-25T07:11:13.196438400Z",
     "start_time": "2024-05-25T07:11:13.112444200Z"
    }
   },
   "id": "3ba598ce5f596def"
  },
  {
   "cell_type": "code",
   "execution_count": 42,
   "outputs": [
    {
     "name": "stdout",
     "output_type": "stream",
     "text": [
      "Hello, World!\n",
      "Hello, World!\n"
     ]
    }
   ],
   "source": [
    "# Python3注释\n",
    "\n",
    "# 单行注释\n",
    "\n",
    "# 这是一个注释\n",
    "print(\"Hello, World!\")\n",
    "\n",
    "# 多行注释\n",
    "# 在 Python中，多行字符串（由三个单引号 ''' 或三个双引号 \"\"\" 包围的文本块）在某些情况下可以被视为一种实现多行注释的技巧。\n",
    "\n",
    "#!/usr/bin/python3 \n",
    "'''\n",
    "这是多行注释，用三个单引号\n",
    "这是多行注释，用三个单引号 \n",
    "这是多行注释，用三个单引号\n",
    "'''\n",
    "print(\"Hello, World!\")\n",
    "\n",
    "# 多行注释实际是多行字符串，我们只要不使用它，它不会影响程序的运行。"
   ],
   "metadata": {
    "collapsed": false,
    "ExecuteTime": {
     "end_time": "2024-05-25T07:15:17.007686900Z",
     "start_time": "2024-05-25T07:15:16.917692500Z"
    }
   },
   "id": "669f0ad379656924"
  },
  {
   "cell_type": "code",
   "execution_count": 44,
   "outputs": [
    {
     "ename": "IndentationError",
     "evalue": "unexpected indent (88249227.py, line 10)",
     "output_type": "error",
     "traceback": [
      "\u001B[1;36m  Input \u001B[1;32mIn [44]\u001B[1;36m\u001B[0m\n\u001B[1;33m    这是尝试嵌套的多行注释\u001B[0m\n\u001B[1;37m    ^\u001B[0m\n\u001B[1;31mIndentationError\u001B[0m\u001B[1;31m:\u001B[0m unexpected indent\n"
     ]
    }
   ],
   "source": [
    "# 扩展说明，多行注释不能嵌套？\n",
    "\n",
    "# 嵌套多行注释会导致语法错误\n",
    "\n",
    "'''\n",
    "这是外部的多行注释\n",
    "可以包含一些描述性的内容\n",
    "\n",
    "    '''\n",
    "    这是尝试嵌套的多行注释\n",
    "    会导致语法错误\n",
    "    '''\n",
    "'''"
   ],
   "metadata": {
    "collapsed": false,
    "ExecuteTime": {
     "end_time": "2024-05-25T07:16:40.373151700Z",
     "start_time": "2024-05-25T07:16:40.278133400Z"
    }
   },
   "id": "435a8936298b55cb"
  },
  {
   "cell_type": "code",
   "execution_count": 47,
   "outputs": [
    {
     "data": {
      "text/plain": "'\\n这是外部的多行注释\\n可以包含一些描述性的内容\\n\\n# 这是内部的单行注释\\n# 可以嵌套在多行注释中\\n'"
     },
     "execution_count": 47,
     "metadata": {},
     "output_type": "execute_result"
    }
   ],
   "source": [
    "# 如果你需要在注释中包含嵌套结构，推荐使用单行注释（以#开头）而不是多行注释。\n",
    "\n",
    "'''\n",
    "这是外部的多行注释\n",
    "可以包含一些描述性的内容\n",
    "\n",
    "# 这是内部的单行注释\n",
    "# 可以嵌套在多行注释中\n",
    "'''\n",
    "\n",
    "# hello world\n",
    "\n",
    "# 从下面的输出也能看出，多行注释其实就是字符串"
   ],
   "metadata": {
    "collapsed": false,
    "ExecuteTime": {
     "end_time": "2024-05-25T07:17:51.770575500Z",
     "start_time": "2024-05-25T07:17:51.660572700Z"
    }
   },
   "id": "201531d29dc0ed2"
  },
  {
   "cell_type": "code",
   "execution_count": 2,
   "outputs": [
    {
     "name": "stdout",
     "output_type": "stream",
     "text": [
      "1 - c 的值为： 31\n",
      "2 - c 的值为： 11\n",
      "3 - c 的值为： 210\n",
      "4 - c 的值为： 2.1\n",
      "5 - c 的值为： 1\n",
      "6 - c 的值为： 8\n",
      "7 - c 的值为： 2\n"
     ]
    }
   ],
   "source": [
    "# 运算符\n",
    "\n",
    "# 算术运算符\n",
    "\n",
    "#!/usr/bin/python3\n",
    " \n",
    "a = 21\n",
    "b = 10\n",
    "c = 0\n",
    " \n",
    "c = a + b\n",
    "print (\"1 - c 的值为：\", c)\n",
    " \n",
    "c = a - b\n",
    "print (\"2 - c 的值为：\", c)\n",
    " \n",
    "c = a * b\n",
    "print (\"3 - c 的值为：\", c)\n",
    " \n",
    "c = a / b\n",
    "print (\"4 - c 的值为：\", c)\n",
    " \n",
    "c = a % b\n",
    "print (\"5 - c 的值为：\", c)\n",
    " \n",
    "# 修改变量 a 、b 、c\n",
    "a = 2\n",
    "b = 3\n",
    "c = a**b \n",
    "print (\"6 - c 的值为：\", c)\n",
    " \n",
    "a = 10\n",
    "b = 5\n",
    "c = a//b \n",
    "print (\"7 - c 的值为：\", c)"
   ],
   "metadata": {
    "collapsed": false,
    "ExecuteTime": {
     "end_time": "2024-05-25T11:28:06.942161600Z",
     "start_time": "2024-05-25T11:28:06.906183100Z"
    }
   },
   "id": "d61425b64da33d51"
  },
  {
   "cell_type": "code",
   "execution_count": 4,
   "outputs": [
    {
     "name": "stdout",
     "output_type": "stream",
     "text": [
      "1 - a 不等于 b\n",
      "2 - a 不等于 b\n",
      "3 - a 大于等于 b\n",
      "4 - a 大于 b\n",
      "5 - a 小于等于 b\n",
      "6 - b 大于等于 a\n"
     ]
    }
   ],
   "source": [
    "# 比较运算符\n",
    "\n",
    "#!/usr/bin/python3\n",
    " \n",
    "a = 21\n",
    "b = 10\n",
    "c = 0\n",
    " \n",
    "if a == b:\n",
    "   print (\"1 - a 等于 b\")\n",
    "else:\n",
    "   print (\"1 - a 不等于 b\")\n",
    " \n",
    "if a != b:\n",
    "   print (\"2 - a 不等于 b\")\n",
    "else:\n",
    "   print (\"2 - a 等于 b\")\n",
    " \n",
    "if a < b:\n",
    "   print (\"3 - a 小于 b\")\n",
    "else:\n",
    "   print (\"3 - a 大于等于 b\")\n",
    " \n",
    "if a > b:\n",
    "   print (\"4 - a 大于 b\")\n",
    "else:\n",
    "   print (\"4 - a 小于等于 b\")\n",
    " \n",
    "# 修改变量 a 和 b 的值\n",
    "a = 5\n",
    "b = 20\n",
    "if a <= b:\n",
    "   print (\"5 - a 小于等于 b\")\n",
    "else:\n",
    "   print (\"5 - a 大于  b\")\n",
    " \n",
    "if b >= a:\n",
    "   print (\"6 - b 大于等于 a\")\n",
    "else:\n",
    "   print (\"6 - b 小于 a\")"
   ],
   "metadata": {
    "collapsed": false,
    "ExecuteTime": {
     "end_time": "2024-05-25T11:29:35.311659700Z",
     "start_time": "2024-05-25T11:29:35.245661800Z"
    }
   },
   "id": "1b407f73c37188d0"
  },
  {
   "cell_type": "code",
   "execution_count": 6,
   "outputs": [
    {
     "name": "stdout",
     "output_type": "stream",
     "text": [
      "1 - c 的值为： 31\n",
      "2 - c 的值为： 52\n",
      "3 - c 的值为： 1092\n",
      "4 - c 的值为： 52.0\n",
      "5 - c 的值为： 2\n",
      "6 - c 的值为： 2097152\n",
      "7 - c 的值为： 99864\n"
     ]
    }
   ],
   "source": [
    "# 赋值运算符\n",
    "\n",
    "#!/usr/bin/python3\n",
    " \n",
    "a = 21\n",
    "b = 10\n",
    " \n",
    "c = a + b\n",
    "print (\"1 - c 的值为：\", c)\n",
    " \n",
    "c += a\n",
    "print (\"2 - c 的值为：\", c)\n",
    " \n",
    "c *= a\n",
    "print (\"3 - c 的值为：\", c)\n",
    " \n",
    "c /= a \n",
    "print (\"4 - c 的值为：\", c)\n",
    " \n",
    "c = 2\n",
    "c %= a\n",
    "print (\"5 - c 的值为：\", c)\n",
    " \n",
    "c **= a\n",
    "print (\"6 - c 的值为：\", c)\n",
    " \n",
    "c //= a\n",
    "print (\"7 - c 的值为：\", c)"
   ],
   "metadata": {
    "collapsed": false,
    "ExecuteTime": {
     "end_time": "2024-05-25T11:30:54.820443100Z",
     "start_time": "2024-05-25T11:30:54.791442300Z"
    }
   },
   "id": "42c0d0fbfcd3b36a"
  },
  {
   "cell_type": "code",
   "execution_count": 2,
   "outputs": [
    {
     "name": "stdout",
     "output_type": "stream",
     "text": [
      "1 - c 的值为： 12\n",
      "2 - c 的值为： 61\n",
      "3 - c 的值为： 49\n",
      "4 - c 的值为： -61\n",
      "5 - c 的值为： 240\n",
      "6 - c 的值为： 15\n"
     ]
    }
   ],
   "source": [
    "# 位运算符\n",
    "\n",
    "#!/usr/bin/python3\n",
    " \n",
    "a = 60            # 60 = 0011 1100 \n",
    "b = 13            # 13 = 0000 1101 \n",
    " \n",
    "c = a & b        # 12 = 0000 1100\n",
    "print (\"1 - c 的值为：\", c)\n",
    " \n",
    "c = a | b        # 61 = 0011 1101 \n",
    "print (\"2 - c 的值为：\", c)\n",
    " \n",
    "c = a ^ b        # 49 = 0011 0001\n",
    "print (\"3 - c 的值为：\", c)\n",
    " \n",
    "c = ~a           # -61 = 1100 0011\n",
    "print (\"4 - c 的值为：\", c)\n",
    " \n",
    "c = a << 2       # 240 = 1111 0000\n",
    "print (\"5 - c 的值为：\", c)\n",
    " \n",
    "c = a >> 2       # 15 = 0000 1111\n",
    "print (\"6 - c 的值为：\", c)"
   ],
   "metadata": {
    "collapsed": false,
    "ExecuteTime": {
     "end_time": "2024-05-25T14:25:15.996761400Z",
     "start_time": "2024-05-25T14:25:15.931230100Z"
    }
   },
   "id": "96f544e913ad8c50"
  },
  {
   "cell_type": "code",
   "execution_count": 4,
   "outputs": [
    {
     "name": "stdout",
     "output_type": "stream",
     "text": [
      "1 - 变量 a 和 b 都为 true\n",
      "2 - 变量 a 和 b 都为 true，或其中一个变量为 true\n",
      "3 - 变量 a 和 b 有一个不为 true\n",
      "4 - 变量 a 和 b 都为 true，或其中一个变量为 true\n",
      "5 - 变量 a 和 b 都为 false，或其中一个变量为 false\n"
     ]
    }
   ],
   "source": [
    "# 逻辑运算符\n",
    "\n",
    "#!/usr/bin/python3\n",
    " \n",
    "a = 10\n",
    "b = 20\n",
    " \n",
    "if ( a and b ):\n",
    "   print (\"1 - 变量 a 和 b 都为 true\")\n",
    "else:\n",
    "   print (\"1 - 变量 a 和 b 有一个不为 true\")\n",
    " \n",
    "if ( a or b ):\n",
    "   print (\"2 - 变量 a 和 b 都为 true，或其中一个变量为 true\")\n",
    "else:\n",
    "   print (\"2 - 变量 a 和 b 都不为 true\")\n",
    " \n",
    "# 修改变量 a 的值\n",
    "a = 0\n",
    "if ( a and b ):\n",
    "   print (\"3 - 变量 a 和 b 都为 true\")\n",
    "else:\n",
    "   print (\"3 - 变量 a 和 b 有一个不为 true\")\n",
    " \n",
    "if ( a or b ):\n",
    "   print (\"4 - 变量 a 和 b 都为 true，或其中一个变量为 true\")\n",
    "else:\n",
    "   print (\"4 - 变量 a 和 b 都不为 true\")\n",
    " \n",
    "if not( a and b ):\n",
    "   print (\"5 - 变量 a 和 b 都为 false，或其中一个变量为 false\")\n",
    "else:\n",
    "   print (\"5 - 变量 a 和 b 都为 true\")"
   ],
   "metadata": {
    "collapsed": false,
    "ExecuteTime": {
     "end_time": "2024-05-25T14:26:40.283469300Z",
     "start_time": "2024-05-25T14:26:40.252470100Z"
    }
   },
   "id": "714839efe3750515"
  },
  {
   "cell_type": "code",
   "execution_count": 6,
   "outputs": [
    {
     "name": "stdout",
     "output_type": "stream",
     "text": [
      "1 - 变量 a 不在给定的列表中 list 中\n",
      "2 - 变量 b 不在给定的列表中 list 中\n",
      "3 - 变量 a 在给定的列表中 list 中\n"
     ]
    }
   ],
   "source": [
    "# 成员运算符\n",
    "\n",
    "#!/usr/bin/python3\n",
    " \n",
    "a = 10\n",
    "b = 20\n",
    "list = [1, 2, 3, 4, 5 ]\n",
    " \n",
    "if ( a in list ):\n",
    "   print (\"1 - 变量 a 在给定的列表中 list 中\")\n",
    "else:\n",
    "   print (\"1 - 变量 a 不在给定的列表中 list 中\")\n",
    " \n",
    "if ( b not in list ):\n",
    "   print (\"2 - 变量 b 不在给定的列表中 list 中\")\n",
    "else:\n",
    "   print (\"2 - 变量 b 在给定的列表中 list 中\")\n",
    " \n",
    "# 修改变量 a 的值\n",
    "a = 2\n",
    "if ( a in list ):\n",
    "   print (\"3 - 变量 a 在给定的列表中 list 中\")\n",
    "else:\n",
    "   print (\"3 - 变量 a 不在给定的列表中 list 中\")"
   ],
   "metadata": {
    "collapsed": false,
    "ExecuteTime": {
     "end_time": "2024-05-25T14:27:16.095851400Z",
     "start_time": "2024-05-25T14:27:16.045840700Z"
    }
   },
   "id": "16cc4b6acf5412df"
  },
  {
   "cell_type": "code",
   "execution_count": 7,
   "outputs": [
    {
     "name": "stdout",
     "output_type": "stream",
     "text": [
      "1 - a 和 b 有相同的标识\n",
      "2 - a 和 b 有相同的标识\n",
      "3 - a 和 b 没有相同的标识\n",
      "4 - a 和 b 没有相同的标识\n"
     ]
    }
   ],
   "source": [
    "# 身份运算符\n",
    "\n",
    "#!/usr/bin/python3\n",
    " \n",
    "a = 20\n",
    "b = 20\n",
    " \n",
    "if ( a is b ):\n",
    "   print (\"1 - a 和 b 有相同的标识\")\n",
    "else:\n",
    "   print (\"1 - a 和 b 没有相同的标识\")\n",
    " \n",
    "if ( id(a) == id(b) ):\n",
    "   print (\"2 - a 和 b 有相同的标识\")\n",
    "else:\n",
    "   print (\"2 - a 和 b 没有相同的标识\")\n",
    " \n",
    "# 修改变量 b 的值\n",
    "b = 30\n",
    "if ( a is b ):\n",
    "   print (\"3 - a 和 b 有相同的标识\")\n",
    "else:\n",
    "   print (\"3 - a 和 b 没有相同的标识\")\n",
    " \n",
    "if ( a is not b ):\n",
    "   print (\"4 - a 和 b 没有相同的标识\")\n",
    "else:\n",
    "   print (\"4 - a 和 b 有相同的标识\")\n",
    "   \n",
    "# is 用于判断两个变量引用对象是否为同一个， == 用于判断引用变量的值是否相等。"
   ],
   "metadata": {
    "collapsed": false,
    "ExecuteTime": {
     "end_time": "2024-05-25T14:27:54.209766900Z",
     "start_time": "2024-05-25T14:27:54.151747600Z"
    }
   },
   "id": "62d54d2b4c1279ae"
  },
  {
   "cell_type": "code",
   "execution_count": 9,
   "outputs": [
    {
     "name": "stdout",
     "output_type": "stream",
     "text": [
      "(a + b) * c / d 运算结果为： 90.0\n",
      "((a + b) * c) / d 运算结果为： 90.0\n",
      "(a + b) * (c / d) 运算结果为： 90.0\n",
      "a + (b * c) / d 运算结果为： 50.0\n"
     ]
    }
   ],
   "source": [
    "#!/usr/bin/python3\n",
    "\n",
    "# 运算符优先级\n",
    " \n",
    "a = 20\n",
    "b = 10\n",
    "c = 15\n",
    "d = 5\n",
    "e = 0\n",
    " \n",
    "e = (a + b) * c / d       #( 30 * 15 ) / 5\n",
    "print (\"(a + b) * c / d 运算结果为：\",  e)\n",
    " \n",
    "e = ((a + b) * c) / d     # (30 * 15 ) / 5\n",
    "print (\"((a + b) * c) / d 运算结果为：\",  e)\n",
    " \n",
    "e = (a + b) * (c / d)    # (30) * (15/5)\n",
    "print (\"(a + b) * (c / d) 运算结果为：\",  e)\n",
    " \n",
    "e = a + (b * c) / d      #  20 + (150/5)\n",
    "print (\"a + (b * c) / d 运算结果为：\",  e)"
   ],
   "metadata": {
    "collapsed": false,
    "ExecuteTime": {
     "end_time": "2024-05-25T14:30:09.870125500Z",
     "start_time": "2024-05-25T14:30:09.840128900Z"
    }
   },
   "id": "242c056c9b5400ed"
  },
  {
   "cell_type": "code",
   "execution_count": 17,
   "outputs": [
    {
     "name": "stdout",
     "output_type": "stream",
     "text": [
      "10.0\n",
      "2\n",
      "0.49999999999999994\n"
     ]
    }
   ],
   "source": [
    "# 数字：创建、删除引用、数字转换、数字运算\n",
    "\n",
    "import random\n",
    "import math\n",
    "\n",
    "# 数学函数\n",
    "\n",
    "print(math.sqrt(100))\n",
    "\n",
    "# 随机数\n",
    "\n",
    "print(random.choice(range(10)))\n",
    "\n",
    "# 三角函数\n",
    "\n",
    "print(math.sin(math.radians(30)))"
   ],
   "metadata": {
    "collapsed": false,
    "ExecuteTime": {
     "end_time": "2024-05-25T14:38:41.411458100Z",
     "start_time": "2024-05-25T14:38:41.387907900Z"
    }
   },
   "id": "322c4d7ad302bebb"
  },
  {
   "cell_type": "code",
   "execution_count": 19,
   "outputs": [
    {
     "name": "stdout",
     "output_type": "stream",
     "text": [
      "已更新字符串 :  Hello Runoob!\n"
     ]
    }
   ],
   "source": [
    "# 字符串\n",
    "\n",
    "# 使用单引号或者双引号来创建\n",
    "\n",
    "var1 = 'Hello World!'\n",
    "var2 = \"Runoob\"\n",
    "\n",
    "print (\"已更新字符串 : \", var1[:6] + 'Runoob!')\n"
   ],
   "metadata": {
    "collapsed": false,
    "ExecuteTime": {
     "end_time": "2024-05-25T15:49:07.437092500Z",
     "start_time": "2024-05-25T15:49:07.408098300Z"
    }
   },
   "id": "94b72a897dcf2bf5"
  },
  {
   "cell_type": "code",
   "execution_count": 27,
   "outputs": [
    {
     "name": "stdout",
     "output_type": "stream",
     "text": [
      "100% "
     ]
    }
   ],
   "source": [
    "import time\n",
    "\n",
    "for i in range(101):\n",
    "    print(\"\\r{:3}%\".format(i),end=' ')\n",
    "    time.sleep(0.05)"
   ],
   "metadata": {
    "collapsed": false,
    "ExecuteTime": {
     "end_time": "2024-05-25T15:51:37.992754900Z",
     "start_time": "2024-05-25T15:51:31.654125600Z"
    }
   },
   "id": "fe9db8a5751219c2"
  },
  {
   "cell_type": "code",
   "execution_count": 29,
   "outputs": [
    {
     "name": "stdout",
     "output_type": "stream",
     "text": [
      "a + b 输出结果： HelloPython\n",
      "a * 2 输出结果： HelloHello\n",
      "a[1] 输出结果： e\n",
      "a[1:4] 输出结果： ell\n",
      "H 在变量 a 中\n",
      "M 不在变量 a 中\n",
      "\\n\n",
      "\\n\n"
     ]
    }
   ],
   "source": [
    "# 字符串运算\n",
    "\n",
    "#!/usr/bin/python3\n",
    " \n",
    "a = \"Hello\"\n",
    "b = \"Python\"\n",
    " \n",
    "print(\"a + b 输出结果：\", a + b)\n",
    "print(\"a * 2 输出结果：\", a * 2)\n",
    "print(\"a[1] 输出结果：\", a[1])\n",
    "print(\"a[1:4] 输出结果：\", a[1:4])\n",
    " \n",
    "if( \"H\" in a) :\n",
    "    print(\"H 在变量 a 中\")\n",
    "else :\n",
    "    print(\"H 不在变量 a 中\")\n",
    " \n",
    "if( \"M\" not in a) :\n",
    "    print(\"M 不在变量 a 中\")\n",
    "else :\n",
    "    print(\"M 在变量 a 中\")\n",
    " \n",
    "print (r'\\n')\n",
    "print (R'\\n')"
   ],
   "metadata": {
    "collapsed": false,
    "ExecuteTime": {
     "end_time": "2024-05-25T15:56:04.078696600Z",
     "start_time": "2024-05-25T15:56:04.017135300Z"
    }
   },
   "id": "8c49bea640edffea"
  },
  {
   "cell_type": "code",
   "execution_count": 31,
   "outputs": [
    {
     "name": "stdout",
     "output_type": "stream",
     "text": [
      "我叫 小明 今年 10 岁!\n"
     ]
    }
   ],
   "source": [
    "# 字符串格式化\n",
    "\n",
    "print (\"我叫 %s 今年 %d 岁!\" % ('小明', 10))\n"
   ],
   "metadata": {
    "collapsed": false,
    "ExecuteTime": {
     "end_time": "2024-05-25T15:56:56.006463500Z",
     "start_time": "2024-05-25T15:56:55.968293400Z"
    }
   },
   "id": "d86b0b16bb867d08"
  },
  {
   "cell_type": "code",
   "execution_count": 33,
   "outputs": [
    {
     "name": "stdout",
     "output_type": "stream",
     "text": [
      "Hello Runoob\n",
      "3\n",
      "Runoob: www.runoob.com\n"
     ]
    }
   ],
   "source": [
    "# f-string\n",
    "name = 'Runoob'\n",
    "print(f'Hello {name}')  # 替换变量\n",
    "\n",
    "print(f'{1+2}')         # 使用表达式\n",
    "\n",
    "w = {'name': 'Runoob', 'url': 'www.runoob.com'}\n",
    "print(f'{w[\"name\"]}: {w[\"url\"]}')"
   ],
   "metadata": {
    "collapsed": false,
    "ExecuteTime": {
     "end_time": "2024-05-25T16:00:14.293463Z",
     "start_time": "2024-05-25T16:00:14.254451Z"
    }
   },
   "id": "a473f4c77bbf31be"
  },
  {
   "cell_type": "code",
   "execution_count": 35,
   "outputs": [
    {
     "name": "stdout",
     "output_type": "stream",
     "text": [
      "operator.eq(a,b):  False\n",
      "operator.eq(c,b):  True\n"
     ]
    }
   ],
   "source": [
    "# 列表可修改\n",
    "\n",
    "# 列表比较\n",
    "\n",
    "# 导入 operator 模块\n",
    "import operator\n",
    "\n",
    "a = [1, 2]\n",
    "b = [2, 3]\n",
    "c = [2, 3]\n",
    "print(\"operator.eq(a,b): \", operator.eq(a,b))\n",
    "print(\"operator.eq(c,b): \", operator.eq(c,b))"
   ],
   "metadata": {
    "collapsed": false,
    "ExecuteTime": {
     "end_time": "2024-05-25T16:03:59.580926200Z",
     "start_time": "2024-05-25T16:03:59.550926200Z"
    }
   },
   "id": "ab06a4dec5435fdb"
  },
  {
   "cell_type": "code",
   "execution_count": 37,
   "outputs": [
    {
     "name": "stdout",
     "output_type": "stream",
     "text": [
      "(12, 34.56, 'abc', 'xyz')\n"
     ]
    }
   ],
   "source": [
    "# 元组不可修改，使用新元组\n",
    "\n",
    "#!/usr/bin/python3\n",
    " \n",
    "tup1 = (12, 34.56)\n",
    "tup2 = ('abc', 'xyz')\n",
    " \n",
    "# 以下修改元组元素操作是非法的。\n",
    "# tup1[0] = 100\n",
    " \n",
    "# 创建一个新的元组\n",
    "tup3 = tup1 + tup2\n",
    "print (tup3)"
   ],
   "metadata": {
    "collapsed": false,
    "ExecuteTime": {
     "end_time": "2024-05-25T16:05:43.214787500Z",
     "start_time": "2024-05-25T16:05:43.183779700Z"
    }
   },
   "id": "260783d56de8a278"
  },
  {
   "cell_type": "code",
   "execution_count": 39,
   "outputs": [
    {
     "name": "stdout",
     "output_type": "stream",
     "text": [
      "('Google', 'Runoob', 1997, 2000)\n",
      "删除后的元组 tup : \n"
     ]
    },
    {
     "ename": "NameError",
     "evalue": "name 'tup' is not defined",
     "output_type": "error",
     "traceback": [
      "\u001B[1;31m---------------------------------------------------------------------------\u001B[0m",
      "\u001B[1;31mNameError\u001B[0m                                 Traceback (most recent call last)",
      "Input \u001B[1;32mIn [39]\u001B[0m, in \u001B[0;36m<cell line: 12>\u001B[1;34m()\u001B[0m\n\u001B[0;32m     10\u001B[0m \u001B[38;5;28;01mdel\u001B[39;00m tup\n\u001B[0;32m     11\u001B[0m \u001B[38;5;28mprint\u001B[39m (\u001B[38;5;124m\"\u001B[39m\u001B[38;5;124m删除后的元组 tup : \u001B[39m\u001B[38;5;124m\"\u001B[39m)\n\u001B[1;32m---> 12\u001B[0m \u001B[38;5;28mprint\u001B[39m (\u001B[43mtup\u001B[49m)\n",
      "\u001B[1;31mNameError\u001B[0m: name 'tup' is not defined"
     ]
    }
   ],
   "source": [
    "# 删除元组\n",
    "\n",
    "# 不允许删除元组值，可以删除整个元组\n",
    "\n",
    "#!/usr/bin/python3\n",
    " \n",
    "tup = ('Google', 'Runoob', 1997, 2000)\n",
    " \n",
    "print (tup)\n",
    "del tup\n",
    "print (\"删除后的元组 tup : \")\n",
    "print (tup)"
   ],
   "metadata": {
    "collapsed": false,
    "ExecuteTime": {
     "end_time": "2024-05-25T16:06:29.635723Z",
     "start_time": "2024-05-25T16:06:29.598726200Z"
    }
   },
   "id": "ffa666daa7654eeb"
  },
  {
   "cell_type": "code",
   "execution_count": 41,
   "outputs": [
    {
     "name": "stdout",
     "output_type": "stream",
     "text": [
      "{}\n",
      "Length: 0\n",
      "<class 'dict'>\n"
     ]
    }
   ],
   "source": [
    "# 字典\n",
    "\n",
    "# 可变容器模型。可存储任意类型对象\n",
    "\n",
    "emptyDict = dict()\n",
    " \n",
    "# 打印字典\n",
    "print(emptyDict)\n",
    " \n",
    "# 查看字典的数量\n",
    "print(\"Length:\",len(emptyDict))\n",
    " \n",
    "# 查看类型\n",
    "print(type(emptyDict))"
   ],
   "metadata": {
    "collapsed": false,
    "ExecuteTime": {
     "end_time": "2024-05-25T16:12:37.256728200Z",
     "start_time": "2024-05-25T16:12:37.222718100Z"
    }
   },
   "id": "e5a34060318bfac5"
  },
  {
   "cell_type": "code",
   "execution_count": 43,
   "outputs": [
    {
     "name": "stdout",
     "output_type": "stream",
     "text": [
      "tinydict['Name']:  Runoob\n",
      "tinydict['Age']:  7\n"
     ]
    }
   ],
   "source": [
    "# 访问字典\n",
    "\n",
    "#!/usr/bin/python3\n",
    " \n",
    "tinydict = {'Name': 'Runoob', 'Age': 7, 'Class': 'First'}\n",
    " \n",
    "print (\"tinydict['Name']: \", tinydict['Name'])\n",
    "print (\"tinydict['Age']: \", tinydict['Age'])"
   ],
   "metadata": {
    "collapsed": false,
    "ExecuteTime": {
     "end_time": "2024-05-25T16:12:52.620584100Z",
     "start_time": "2024-05-25T16:12:52.588587500Z"
    }
   },
   "id": "8e11466ed2a0ed30"
  },
  {
   "cell_type": "code",
   "execution_count": 45,
   "outputs": [
    {
     "name": "stdout",
     "output_type": "stream",
     "text": [
      "tinydict['Age']:  8\n",
      "tinydict['School']:  菜鸟教程\n"
     ]
    }
   ],
   "source": [
    "# 修改字典\n",
    "\n",
    "#!/usr/bin/python3\n",
    " \n",
    "tinydict = {'Name': 'Runoob', 'Age': 7, 'Class': 'First'}\n",
    " \n",
    "tinydict['Age'] = 8               # 更新 Age\n",
    "tinydict['School'] = \"菜鸟教程\"  # 添加信息\n",
    " \n",
    " \n",
    "print (\"tinydict['Age']: \", tinydict['Age'])\n",
    "print (\"tinydict['School']: \", tinydict['School'])"
   ],
   "metadata": {
    "collapsed": false,
    "ExecuteTime": {
     "end_time": "2024-05-25T16:13:42.450519400Z",
     "start_time": "2024-05-25T16:13:42.396520600Z"
    }
   },
   "id": "598945282ceb1e9c"
  },
  {
   "cell_type": "code",
   "execution_count": 47,
   "outputs": [
    {
     "ename": "NameError",
     "evalue": "name 'tinydict' is not defined",
     "output_type": "error",
     "traceback": [
      "\u001B[1;31m---------------------------------------------------------------------------\u001B[0m",
      "\u001B[1;31mNameError\u001B[0m                                 Traceback (most recent call last)",
      "Input \u001B[1;32mIn [47]\u001B[0m, in \u001B[0;36m<cell line: 10>\u001B[1;34m()\u001B[0m\n\u001B[0;32m      7\u001B[0m tinydict\u001B[38;5;241m.\u001B[39mclear()     \u001B[38;5;66;03m# 清空字典\u001B[39;00m\n\u001B[0;32m      8\u001B[0m \u001B[38;5;28;01mdel\u001B[39;00m tinydict         \u001B[38;5;66;03m# 删除字典\u001B[39;00m\n\u001B[1;32m---> 10\u001B[0m \u001B[38;5;28mprint\u001B[39m (\u001B[38;5;124m\"\u001B[39m\u001B[38;5;124mtinydict[\u001B[39m\u001B[38;5;124m'\u001B[39m\u001B[38;5;124mAge\u001B[39m\u001B[38;5;124m'\u001B[39m\u001B[38;5;124m]: \u001B[39m\u001B[38;5;124m\"\u001B[39m, \u001B[43mtinydict\u001B[49m[\u001B[38;5;124m'\u001B[39m\u001B[38;5;124mAge\u001B[39m\u001B[38;5;124m'\u001B[39m])\n\u001B[0;32m     11\u001B[0m \u001B[38;5;28mprint\u001B[39m (\u001B[38;5;124m\"\u001B[39m\u001B[38;5;124mtinydict[\u001B[39m\u001B[38;5;124m'\u001B[39m\u001B[38;5;124mSchool\u001B[39m\u001B[38;5;124m'\u001B[39m\u001B[38;5;124m]: \u001B[39m\u001B[38;5;124m\"\u001B[39m, tinydict[\u001B[38;5;124m'\u001B[39m\u001B[38;5;124mSchool\u001B[39m\u001B[38;5;124m'\u001B[39m])\n",
      "\u001B[1;31mNameError\u001B[0m: name 'tinydict' is not defined"
     ]
    }
   ],
   "source": [
    "# 删除字典元素\n",
    "#!/usr/bin/python3\n",
    " \n",
    "tinydict = {'Name': 'Runoob', 'Age': 7, 'Class': 'First'}\n",
    " \n",
    "del tinydict['Name'] # 删除键 'Name'\n",
    "tinydict.clear()     # 清空字典\n",
    "del tinydict         # 删除字典\n",
    " \n",
    "print (\"tinydict['Age']: \", tinydict['Age'])\n",
    "print (\"tinydict['School']: \", tinydict['School'])"
   ],
   "metadata": {
    "collapsed": false,
    "ExecuteTime": {
     "end_time": "2024-05-25T16:14:53.474546400Z",
     "start_time": "2024-05-25T16:14:53.423520300Z"
    }
   },
   "id": "8926901669995419"
  },
  {
   "cell_type": "code",
   "execution_count": 50,
   "outputs": [
    {
     "name": "stdout",
     "output_type": "stream",
     "text": [
      "2\n",
      "tinydict['Name']:  小菜鸟\n"
     ]
    }
   ],
   "source": [
    "# 字典键的特性\n",
    "\n",
    "# 不允许同一个键出现两次。创建时如果同一个键被赋值两次，后一个值会被记住\n",
    "#!/usr/bin/python3\n",
    " \n",
    "tinydict = {'Name': 'Runoob', 'Age': 7, 'Name': '小菜鸟'}\n",
    "\n",
    "print(len(tinydict))\n",
    " \n",
    "print (\"tinydict['Name']: \", tinydict['Name'])"
   ],
   "metadata": {
    "collapsed": false,
    "ExecuteTime": {
     "end_time": "2024-05-25T16:16:31.653098Z",
     "start_time": "2024-05-25T16:16:31.599097200Z"
    }
   },
   "id": "869ef1dcd434ac40"
  },
  {
   "cell_type": "code",
   "execution_count": 52,
   "outputs": [
    {
     "ename": "TypeError",
     "evalue": "unhashable type: 'list'",
     "output_type": "error",
     "traceback": [
      "\u001B[1;31m---------------------------------------------------------------------------\u001B[0m",
      "\u001B[1;31mTypeError\u001B[0m                                 Traceback (most recent call last)",
      "Input \u001B[1;32mIn [52]\u001B[0m, in \u001B[0;36m<cell line: 5>\u001B[1;34m()\u001B[0m\n\u001B[0;32m      1\u001B[0m \u001B[38;5;66;03m# 键必须不可变，所以可以用数字，字符串或元组充当，而用列表就不行\u001B[39;00m\n\u001B[0;32m      2\u001B[0m \n\u001B[0;32m      3\u001B[0m \u001B[38;5;66;03m#!/usr/bin/python3\u001B[39;00m\n\u001B[1;32m----> 5\u001B[0m tinydict \u001B[38;5;241m=\u001B[39m {[\u001B[38;5;124m'\u001B[39m\u001B[38;5;124mName\u001B[39m\u001B[38;5;124m'\u001B[39m]: \u001B[38;5;124m'\u001B[39m\u001B[38;5;124mRunoob\u001B[39m\u001B[38;5;124m'\u001B[39m, \u001B[38;5;124m'\u001B[39m\u001B[38;5;124mAge\u001B[39m\u001B[38;5;124m'\u001B[39m: \u001B[38;5;241m7\u001B[39m}\n\u001B[0;32m      7\u001B[0m \u001B[38;5;28mprint\u001B[39m (\u001B[38;5;124m\"\u001B[39m\u001B[38;5;124mtinydict[\u001B[39m\u001B[38;5;124m'\u001B[39m\u001B[38;5;124mName\u001B[39m\u001B[38;5;124m'\u001B[39m\u001B[38;5;124m]: \u001B[39m\u001B[38;5;124m\"\u001B[39m, tinydict[\u001B[38;5;124m'\u001B[39m\u001B[38;5;124mName\u001B[39m\u001B[38;5;124m'\u001B[39m])\n",
      "\u001B[1;31mTypeError\u001B[0m: unhashable type: 'list'"
     ]
    }
   ],
   "source": [
    "# 键必须不可变，所以可以用数字，字符串或元组充当，而用列表就不行\n",
    "\n",
    "#!/usr/bin/python3\n",
    " \n",
    "tinydict = {['Name']: 'Runoob', 'Age': 7}\n",
    " \n",
    "print (\"tinydict['Name']: \", tinydict['Name'])"
   ],
   "metadata": {
    "collapsed": false,
    "ExecuteTime": {
     "end_time": "2024-05-25T16:17:00.485760100Z",
     "start_time": "2024-05-25T16:17:00.431189700Z"
    }
   },
   "id": "427d90405026300"
  },
  {
   "cell_type": "code",
   "execution_count": null,
   "outputs": [],
   "source": [],
   "metadata": {
    "collapsed": false
   },
   "id": "a5c160aaac15da2b"
  }
 ],
 "metadata": {
  "kernelspec": {
   "display_name": "Python 3",
   "language": "python",
   "name": "python3"
  },
  "language_info": {
   "codemirror_mode": {
    "name": "ipython",
    "version": 2
   },
   "file_extension": ".py",
   "mimetype": "text/x-python",
   "name": "python",
   "nbconvert_exporter": "python",
   "pygments_lexer": "ipython2",
   "version": "2.7.6"
  }
 },
 "nbformat": 4,
 "nbformat_minor": 5
}
