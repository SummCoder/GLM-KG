{
 "cells": [
  {
   "cell_type": "code",
   "execution_count": 5,
   "id": "initial_id",
   "metadata": {
    "collapsed": true,
    "ExecuteTime": {
     "end_time": "2024-05-19T03:15:13.873010300Z",
     "start_time": "2024-05-19T03:15:13.857008400Z"
    }
   },
   "outputs": [
    {
     "name": "stdout",
     "output_type": "stream",
     "text": [
      "hello, world\n"
     ]
    }
   ],
   "source": [
    "# hello world\n",
    "print(\"hello, world\")"
   ]
  },
  {
   "cell_type": "code",
   "execution_count": 2,
   "outputs": [
    {
     "name": "stdout",
     "output_type": "stream",
     "text": [
      "3\n"
     ]
    }
   ],
   "source": [
    "# 数字类型\n",
    "print(1 + 2)"
   ],
   "metadata": {
    "collapsed": false,
    "ExecuteTime": {
     "end_time": "2024-05-19T03:13:44.841329300Z",
     "start_time": "2024-05-19T03:13:44.822327600Z"
    }
   },
   "id": "650e138068df1e0a"
  },
  {
   "cell_type": "code",
   "execution_count": 3,
   "outputs": [
    {
     "name": "stdout",
     "output_type": "stream",
     "text": [
      "this is our story\n"
     ]
    }
   ],
   "source": [
    "# 字符串转义\n",
    "print(\"this is our story\\n\")"
   ],
   "metadata": {
    "collapsed": false,
    "ExecuteTime": {
     "end_time": "2024-05-19T03:14:17.143056300Z",
     "start_time": "2024-05-19T03:14:17.119056700Z"
    }
   },
   "id": "da427c84cfc1bae5"
  },
  {
   "cell_type": "code",
   "execution_count": 4,
   "outputs": [
    {
     "name": "stdout",
     "output_type": "stream",
     "text": [
      "this is our story\\n\n"
     ]
    }
   ],
   "source": [
    "# 使用`r`使反斜杠不转义\n",
    "print(r\"this is our story\\n\")"
   ],
   "metadata": {
    "collapsed": false,
    "ExecuteTime": {
     "end_time": "2024-05-19T03:14:38.821069600Z",
     "start_time": "2024-05-19T03:14:38.803074600Z"
    }
   },
   "id": "eb5e63338890c8f1"
  },
  {
   "cell_type": "code",
   "execution_count": 7,
   "outputs": [
    {
     "name": "stdout",
     "output_type": "stream",
     "text": [
      "this is our story!\n"
     ]
    }
   ],
   "source": [
    "# 字符串拼接\n",
    "\n",
    "sentence  = \"this is our story\" + \"!\"\n",
    "\n",
    "print(sentence)"
   ],
   "metadata": {
    "collapsed": false,
    "ExecuteTime": {
     "end_time": "2024-05-19T03:17:35.518989500Z",
     "start_time": "2024-05-19T03:17:35.502995400Z"
    }
   },
   "id": "78d8e4d8e16b60b3"
  },
  {
   "cell_type": "code",
   "execution_count": 1,
   "outputs": [
    {
     "name": "stdout",
     "output_type": "stream",
     "text": [
      "this is our story!\n",
      "this is our story\n",
      "this\n"
     ]
    }
   ],
   "source": [
    "# 字符串切片，左闭右开\n",
    "\n",
    "sentence = \"this is our story!\"\n",
    "\n",
    "print(sentence)\n",
    "print(sentence[0:-1])\n",
    "print(sentence[0:4])"
   ],
   "metadata": {
    "collapsed": false,
    "ExecuteTime": {
     "end_time": "2024-05-19T03:21:33.659079100Z",
     "start_time": "2024-05-19T03:21:33.641081600Z"
    }
   },
   "id": "b52687ac426c5109"
  },
  {
   "cell_type": "code",
   "execution_count": 4,
   "outputs": [
    {
     "name": "stdout",
     "output_type": "stream",
     "text": [
      "this is our story!\n"
     ]
    }
   ],
   "source": [
    "# 不换行输出\n",
    "\n",
    "print(\"this is our story\", end=\"\")\n",
    "print(\"!\")"
   ],
   "metadata": {
    "collapsed": false,
    "ExecuteTime": {
     "end_time": "2024-05-19T03:24:02.687471700Z",
     "start_time": "2024-05-19T03:24:02.672473900Z"
    }
   },
   "id": "878e1d0e597eda92"
  },
  {
   "cell_type": "code",
   "execution_count": null,
   "outputs": [],
   "source": [],
   "metadata": {
    "collapsed": false
   },
   "id": "4cf382646f430ce2"
  }
 ],
 "metadata": {
  "kernelspec": {
   "display_name": "Python 3",
   "language": "python",
   "name": "python3"
  },
  "language_info": {
   "codemirror_mode": {
    "name": "ipython",
    "version": 2
   },
   "file_extension": ".py",
   "mimetype": "text/x-python",
   "name": "python",
   "nbconvert_exporter": "python",
   "pygments_lexer": "ipython2",
   "version": "2.7.6"
  }
 },
 "nbformat": 4,
 "nbformat_minor": 5
}
